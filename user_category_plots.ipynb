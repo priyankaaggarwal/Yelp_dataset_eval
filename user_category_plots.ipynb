{
 "cells": [
  {
   "cell_type": "code",
   "execution_count": 115,
   "metadata": {},
   "outputs": [
    {
     "data": {
      "text/plain": [
       "(174567, 13)"
      ]
     },
     "execution_count": 115,
     "metadata": {},
     "output_type": "execute_result"
    }
   ],
   "source": [
    "import pandas as pd\n",
    "df_bus = pd.read_csv('yelp_business.csv')\n",
    "df_bus.shape"
   ]
  },
  {
   "cell_type": "code",
   "execution_count": 116,
   "metadata": {},
   "outputs": [
    {
     "data": {
      "text/plain": [
       "Index(['business_id', 'name', 'neighborhood', 'address', 'city', 'state',\n",
       "       'postal_code', 'latitude', 'longitude', 'stars', 'review_count',\n",
       "       'is_open', 'categories'],\n",
       "      dtype='object')"
      ]
     },
     "execution_count": 116,
     "metadata": {},
     "output_type": "execute_result"
    }
   ],
   "source": [
    "df_bus.columns"
   ]
  },
  {
   "cell_type": "code",
   "execution_count": 117,
   "metadata": {},
   "outputs": [],
   "source": [
    "df_restaurants = df_bus[df_bus['categories'].str.contains('Restaurants')]['city'].value_counts().head()"
   ]
  },
  {
   "cell_type": "code",
   "execution_count": 118,
   "metadata": {},
   "outputs": [],
   "source": [
    "df_restaurants = df_bus[df_bus['categories'].str.contains('Restaurants')][['latitude','longitude']]"
   ]
  },
  {
   "cell_type": "code",
   "execution_count": 119,
   "metadata": {},
   "outputs": [
    {
     "data": {
      "text/html": [
       "<div>\n",
       "<style scoped>\n",
       "    .dataframe tbody tr th:only-of-type {\n",
       "        vertical-align: middle;\n",
       "    }\n",
       "\n",
       "    .dataframe tbody tr th {\n",
       "        vertical-align: top;\n",
       "    }\n",
       "\n",
       "    .dataframe thead th {\n",
       "        text-align: right;\n",
       "    }\n",
       "</style>\n",
       "<table border=\"1\" class=\"dataframe\">\n",
       "  <thead>\n",
       "    <tr style=\"text-align: right;\">\n",
       "      <th></th>\n",
       "      <th>latitude</th>\n",
       "      <th>longitude</th>\n",
       "    </tr>\n",
       "  </thead>\n",
       "  <tbody>\n",
       "    <tr>\n",
       "      <th>4</th>\n",
       "      <td>41.119535</td>\n",
       "      <td>-81.475690</td>\n",
       "    </tr>\n",
       "    <tr>\n",
       "      <th>5</th>\n",
       "      <td>48.727200</td>\n",
       "      <td>9.147950</td>\n",
       "    </tr>\n",
       "    <tr>\n",
       "      <th>10</th>\n",
       "      <td>40.241548</td>\n",
       "      <td>-80.212815</td>\n",
       "    </tr>\n",
       "  </tbody>\n",
       "</table>\n",
       "</div>"
      ],
      "text/plain": [
       "     latitude  longitude\n",
       "4   41.119535 -81.475690\n",
       "5   48.727200   9.147950\n",
       "10  40.241548 -80.212815"
      ]
     },
     "execution_count": 119,
     "metadata": {},
     "output_type": "execute_result"
    }
   ],
   "source": [
    "df_restaurants.head(3)"
   ]
  },
  {
   "cell_type": "code",
   "execution_count": 120,
   "metadata": {},
   "outputs": [
    {
     "data": {
      "text/html": [
       "<div>\n",
       "<style scoped>\n",
       "    .dataframe tbody tr th:only-of-type {\n",
       "        vertical-align: middle;\n",
       "    }\n",
       "\n",
       "    .dataframe tbody tr th {\n",
       "        vertical-align: top;\n",
       "    }\n",
       "\n",
       "    .dataframe thead th {\n",
       "        text-align: right;\n",
       "    }\n",
       "</style>\n",
       "<table border=\"1\" class=\"dataframe\">\n",
       "  <thead>\n",
       "    <tr style=\"text-align: right;\">\n",
       "      <th></th>\n",
       "      <th>index</th>\n",
       "      <th>latitude</th>\n",
       "      <th>longitude</th>\n",
       "    </tr>\n",
       "  </thead>\n",
       "  <tbody>\n",
       "    <tr>\n",
       "      <th>0</th>\n",
       "      <td>4</td>\n",
       "      <td>41.119535</td>\n",
       "      <td>-81.475690</td>\n",
       "    </tr>\n",
       "    <tr>\n",
       "      <th>1</th>\n",
       "      <td>5</td>\n",
       "      <td>48.727200</td>\n",
       "      <td>9.147950</td>\n",
       "    </tr>\n",
       "    <tr>\n",
       "      <th>2</th>\n",
       "      <td>10</td>\n",
       "      <td>40.241548</td>\n",
       "      <td>-80.212815</td>\n",
       "    </tr>\n",
       "  </tbody>\n",
       "</table>\n",
       "</div>"
      ],
      "text/plain": [
       "   index   latitude  longitude\n",
       "0      4  41.119535 -81.475690\n",
       "1      5  48.727200   9.147950\n",
       "2     10  40.241548 -80.212815"
      ]
     },
     "execution_count": 120,
     "metadata": {},
     "output_type": "execute_result"
    }
   ],
   "source": [
    "df_restaurants.reset_index(inplace=True)\n",
    "df_restaurants.head(3)"
   ]
  },
  {
   "cell_type": "code",
   "execution_count": 121,
   "metadata": {},
   "outputs": [],
   "source": [
    "import folium\n",
    "restaurants_map = folium.Map([60.377674,-129.887219],width=1000, height=700)"
   ]
  },
  {
   "cell_type": "code",
   "execution_count": 122,
   "metadata": {},
   "outputs": [],
   "source": [
    "for i in range(0,len(df_restaurants)):\n",
    "   folium.features.CircleMarker( [df_restaurants.iloc[i]['latitude'], df_restaurants.iloc[i]['longitude']],\n",
    "                 radius=5,\n",
    "                 color='crimson').add_to(restaurants_map)\n",
    "# restaurants_map.marker(location = [df_restaurants.iloc[i]['longitude'], df_restaurants.iloc[i]['latitude']], clustered_marker = True)\n",
    "restaurants_map.save('rest.html')"
   ]
  },
  {
   "cell_type": "code",
   "execution_count": 28,
   "metadata": {},
   "outputs": [],
   "source": [
    "restaurants_postal = df_restaurants['postal_code'].value_counts().to_frame()\n",
    "print(restaurants_postal.shape)\n",
    "restaurants_postal.head(2)"
   ]
  },
  {
   "cell_type": "code",
   "execution_count": null,
   "metadata": {},
   "outputs": [],
   "source": [
    "from geopy.geocoders import Nominatim\n",
    "geolocator = Nominatim(user_agent = 'yelp_analysis_agent')"
   ]
  },
  {
   "cell_type": "code",
   "execution_count": 39,
   "metadata": {},
   "outputs": [],
   "source": [
    "# long, lat = [],[]\n",
    "# for i in range(len(restaurants_postal.index)):\n",
    "#     location = geolocator.geocode({\"postalcode\":restaurants_postal.index[i]})\n",
    "#     long.append(location.longitude)\n",
    "#     lat.append(location.latitude)\n",
    "# print (long, lat)\n",
    "\n",
    "# def location(x):\n",
    "#     return \n",
    "# # restaurants_postal['lat'] = location.latitude\n",
    "# # restaurants_postal['long'] = location.longitude\n",
    "# # restaurants_postal.head()"
   ]
  },
  {
   "cell_type": "code",
   "execution_count": 79,
   "metadata": {},
   "outputs": [],
   "source": [
    "from matplotlib import pyplot as plt\n",
    "%matplotlib inline"
   ]
  },
  {
   "cell_type": "code",
   "execution_count": null,
   "metadata": {},
   "outputs": [],
   "source": [
    "plt.plot(kind='scatter', restaurants_postal)"
   ]
  },
  {
   "cell_type": "code",
   "execution_count": 2,
   "metadata": {},
   "outputs": [],
   "source": [
    "df_final = pd.read_csv('Merged_user_bus_review.csv')"
   ]
  },
  {
   "cell_type": "code",
   "execution_count": 3,
   "metadata": {},
   "outputs": [
    {
     "data": {
      "text/html": [
       "<div>\n",
       "<style scoped>\n",
       "    .dataframe tbody tr th:only-of-type {\n",
       "        vertical-align: middle;\n",
       "    }\n",
       "\n",
       "    .dataframe tbody tr th {\n",
       "        vertical-align: top;\n",
       "    }\n",
       "\n",
       "    .dataframe thead th {\n",
       "        text-align: right;\n",
       "    }\n",
       "</style>\n",
       "<table border=\"1\" class=\"dataframe\">\n",
       "  <thead>\n",
       "    <tr style=\"text-align: right;\">\n",
       "      <th></th>\n",
       "      <th>review_id</th>\n",
       "      <th>user_id</th>\n",
       "      <th>business_id</th>\n",
       "      <th>stars</th>\n",
       "      <th>date</th>\n",
       "      <th>Churches</th>\n",
       "      <th>Wineries</th>\n",
       "      <th>Barbeque</th>\n",
       "      <th>Nightlife</th>\n",
       "      <th>Event Planning &amp; Services</th>\n",
       "      <th>...</th>\n",
       "      <th>Cabaret</th>\n",
       "      <th>Piano Bars</th>\n",
       "      <th>Escape Games</th>\n",
       "      <th>Dog Walkers</th>\n",
       "      <th>German</th>\n",
       "      <th>Swiss Food</th>\n",
       "      <th>Discount Store</th>\n",
       "      <th>Video Game Stores</th>\n",
       "      <th>Iberian</th>\n",
       "      <th>South African</th>\n",
       "    </tr>\n",
       "  </thead>\n",
       "  <tbody>\n",
       "    <tr>\n",
       "      <th>0</th>\n",
       "      <td>ymAUG8DZfQcFTBSOiaNN4w</td>\n",
       "      <td>u0LXt3Uea_GidxRW1xcsfg</td>\n",
       "      <td>9_CGhHMz8698M9-PkVf0CQ</td>\n",
       "      <td>4</td>\n",
       "      <td>2012-05-11</td>\n",
       "      <td>0</td>\n",
       "      <td>0</td>\n",
       "      <td>0</td>\n",
       "      <td>0</td>\n",
       "      <td>0</td>\n",
       "      <td>...</td>\n",
       "      <td>0</td>\n",
       "      <td>0</td>\n",
       "      <td>0</td>\n",
       "      <td>0</td>\n",
       "      <td>0</td>\n",
       "      <td>0</td>\n",
       "      <td>0</td>\n",
       "      <td>0</td>\n",
       "      <td>0</td>\n",
       "      <td>0</td>\n",
       "    </tr>\n",
       "    <tr>\n",
       "      <th>1</th>\n",
       "      <td>w41ZS9shepfO3uEyhXEWuQ</td>\n",
       "      <td>u0LXt3Uea_GidxRW1xcsfg</td>\n",
       "      <td>5r6-G9C4YLbC7Ziz57l3rQ</td>\n",
       "      <td>3</td>\n",
       "      <td>2013-02-09</td>\n",
       "      <td>0</td>\n",
       "      <td>0</td>\n",
       "      <td>0</td>\n",
       "      <td>0</td>\n",
       "      <td>0</td>\n",
       "      <td>...</td>\n",
       "      <td>0</td>\n",
       "      <td>0</td>\n",
       "      <td>0</td>\n",
       "      <td>0</td>\n",
       "      <td>0</td>\n",
       "      <td>0</td>\n",
       "      <td>0</td>\n",
       "      <td>0</td>\n",
       "      <td>0</td>\n",
       "      <td>0</td>\n",
       "    </tr>\n",
       "    <tr>\n",
       "      <th>2</th>\n",
       "      <td>PIsUSmvaUWB00qv5KTF1xA</td>\n",
       "      <td>u0LXt3Uea_GidxRW1xcsfg</td>\n",
       "      <td>z8oIoCT1cXz7gZP5GeU5OA</td>\n",
       "      <td>4</td>\n",
       "      <td>2013-05-01</td>\n",
       "      <td>0</td>\n",
       "      <td>0</td>\n",
       "      <td>0</td>\n",
       "      <td>1</td>\n",
       "      <td>0</td>\n",
       "      <td>...</td>\n",
       "      <td>0</td>\n",
       "      <td>0</td>\n",
       "      <td>0</td>\n",
       "      <td>0</td>\n",
       "      <td>0</td>\n",
       "      <td>0</td>\n",
       "      <td>0</td>\n",
       "      <td>0</td>\n",
       "      <td>0</td>\n",
       "      <td>0</td>\n",
       "    </tr>\n",
       "  </tbody>\n",
       "</table>\n",
       "<p>3 rows × 328 columns</p>\n",
       "</div>"
      ],
      "text/plain": [
       "                review_id                 user_id             business_id  \\\n",
       "0  ymAUG8DZfQcFTBSOiaNN4w  u0LXt3Uea_GidxRW1xcsfg  9_CGhHMz8698M9-PkVf0CQ   \n",
       "1  w41ZS9shepfO3uEyhXEWuQ  u0LXt3Uea_GidxRW1xcsfg  5r6-G9C4YLbC7Ziz57l3rQ   \n",
       "2  PIsUSmvaUWB00qv5KTF1xA  u0LXt3Uea_GidxRW1xcsfg  z8oIoCT1cXz7gZP5GeU5OA   \n",
       "\n",
       "   stars        date  Churches  Wineries  Barbeque  Nightlife  \\\n",
       "0      4  2012-05-11         0         0         0          0   \n",
       "1      3  2013-02-09         0         0         0          0   \n",
       "2      4  2013-05-01         0         0         0          1   \n",
       "\n",
       "   Event Planning & Services  ...  Cabaret  Piano Bars  Escape Games  \\\n",
       "0                          0  ...        0           0             0   \n",
       "1                          0  ...        0           0             0   \n",
       "2                          0  ...        0           0             0   \n",
       "\n",
       "   Dog Walkers  German  Swiss Food  Discount Store  Video Game Stores  \\\n",
       "0            0       0           0               0                  0   \n",
       "1            0       0           0               0                  0   \n",
       "2            0       0           0               0                  0   \n",
       "\n",
       "   Iberian  South African  \n",
       "0        0              0  \n",
       "1        0              0  \n",
       "2        0              0  \n",
       "\n",
       "[3 rows x 328 columns]"
      ]
     },
     "execution_count": 3,
     "metadata": {},
     "output_type": "execute_result"
    }
   ],
   "source": [
    "df_final.head(3)"
   ]
  },
  {
   "cell_type": "code",
   "execution_count": 5,
   "metadata": {},
   "outputs": [],
   "source": [
    "user_grp = df_final.groupby(['user_id']).sum()\n",
    "user_grp.sort_values(by='stars',ascending=False, inplace=True)"
   ]
  },
  {
   "cell_type": "code",
   "execution_count": 100,
   "metadata": {},
   "outputs": [
    {
     "data": {
      "text/html": [
       "<div>\n",
       "<style scoped>\n",
       "    .dataframe tbody tr th:only-of-type {\n",
       "        vertical-align: middle;\n",
       "    }\n",
       "\n",
       "    .dataframe tbody tr th {\n",
       "        vertical-align: top;\n",
       "    }\n",
       "\n",
       "    .dataframe thead th {\n",
       "        text-align: right;\n",
       "    }\n",
       "</style>\n",
       "<table border=\"1\" class=\"dataframe\">\n",
       "  <thead>\n",
       "    <tr style=\"text-align: right;\">\n",
       "      <th></th>\n",
       "      <th>stars</th>\n",
       "      <th>Churches</th>\n",
       "      <th>Wineries</th>\n",
       "      <th>Barbeque</th>\n",
       "      <th>Nightlife</th>\n",
       "      <th>Event Planning &amp; Services</th>\n",
       "      <th>Walking Tours</th>\n",
       "      <th>Pets</th>\n",
       "      <th>Adult Entertainment</th>\n",
       "      <th>Salvadoran</th>\n",
       "      <th>...</th>\n",
       "      <th>Cabaret</th>\n",
       "      <th>Piano Bars</th>\n",
       "      <th>Escape Games</th>\n",
       "      <th>Dog Walkers</th>\n",
       "      <th>German</th>\n",
       "      <th>Swiss Food</th>\n",
       "      <th>Discount Store</th>\n",
       "      <th>Video Game Stores</th>\n",
       "      <th>Iberian</th>\n",
       "      <th>South African</th>\n",
       "    </tr>\n",
       "    <tr>\n",
       "      <th>user_id</th>\n",
       "      <th></th>\n",
       "      <th></th>\n",
       "      <th></th>\n",
       "      <th></th>\n",
       "      <th></th>\n",
       "      <th></th>\n",
       "      <th></th>\n",
       "      <th></th>\n",
       "      <th></th>\n",
       "      <th></th>\n",
       "      <th></th>\n",
       "      <th></th>\n",
       "      <th></th>\n",
       "      <th></th>\n",
       "      <th></th>\n",
       "      <th></th>\n",
       "      <th></th>\n",
       "      <th></th>\n",
       "      <th></th>\n",
       "      <th></th>\n",
       "      <th></th>\n",
       "    </tr>\n",
       "  </thead>\n",
       "  <tbody>\n",
       "    <tr>\n",
       "      <th>CxDOIDnH8gp9KXzpBHJYXw</th>\n",
       "      <td>2855</td>\n",
       "      <td>0</td>\n",
       "      <td>0</td>\n",
       "      <td>28</td>\n",
       "      <td>131</td>\n",
       "      <td>16</td>\n",
       "      <td>0</td>\n",
       "      <td>0</td>\n",
       "      <td>0</td>\n",
       "      <td>1</td>\n",
       "      <td>...</td>\n",
       "      <td>0</td>\n",
       "      <td>0</td>\n",
       "      <td>0</td>\n",
       "      <td>0</td>\n",
       "      <td>2</td>\n",
       "      <td>0</td>\n",
       "      <td>0</td>\n",
       "      <td>0</td>\n",
       "      <td>0</td>\n",
       "      <td>0</td>\n",
       "    </tr>\n",
       "    <tr>\n",
       "      <th>Q9mA60HnY87C1TW5kjAZ6Q</th>\n",
       "      <td>1759</td>\n",
       "      <td>0</td>\n",
       "      <td>0</td>\n",
       "      <td>14</td>\n",
       "      <td>110</td>\n",
       "      <td>17</td>\n",
       "      <td>0</td>\n",
       "      <td>0</td>\n",
       "      <td>0</td>\n",
       "      <td>0</td>\n",
       "      <td>...</td>\n",
       "      <td>0</td>\n",
       "      <td>0</td>\n",
       "      <td>0</td>\n",
       "      <td>0</td>\n",
       "      <td>3</td>\n",
       "      <td>0</td>\n",
       "      <td>0</td>\n",
       "      <td>0</td>\n",
       "      <td>0</td>\n",
       "      <td>0</td>\n",
       "    </tr>\n",
       "    <tr>\n",
       "      <th>FREeRQtjdJU83AFtdETBBw</th>\n",
       "      <td>1472</td>\n",
       "      <td>0</td>\n",
       "      <td>0</td>\n",
       "      <td>11</td>\n",
       "      <td>115</td>\n",
       "      <td>12</td>\n",
       "      <td>0</td>\n",
       "      <td>1</td>\n",
       "      <td>0</td>\n",
       "      <td>0</td>\n",
       "      <td>...</td>\n",
       "      <td>0</td>\n",
       "      <td>0</td>\n",
       "      <td>0</td>\n",
       "      <td>0</td>\n",
       "      <td>2</td>\n",
       "      <td>0</td>\n",
       "      <td>0</td>\n",
       "      <td>0</td>\n",
       "      <td>0</td>\n",
       "      <td>0</td>\n",
       "    </tr>\n",
       "    <tr>\n",
       "      <th>TbhyP24zYZqZ2VJZgu1wrg</th>\n",
       "      <td>1378</td>\n",
       "      <td>0</td>\n",
       "      <td>0</td>\n",
       "      <td>12</td>\n",
       "      <td>88</td>\n",
       "      <td>15</td>\n",
       "      <td>0</td>\n",
       "      <td>0</td>\n",
       "      <td>0</td>\n",
       "      <td>0</td>\n",
       "      <td>...</td>\n",
       "      <td>0</td>\n",
       "      <td>0</td>\n",
       "      <td>0</td>\n",
       "      <td>0</td>\n",
       "      <td>1</td>\n",
       "      <td>0</td>\n",
       "      <td>0</td>\n",
       "      <td>0</td>\n",
       "      <td>0</td>\n",
       "      <td>0</td>\n",
       "    </tr>\n",
       "    <tr>\n",
       "      <th>0BBUmH7Krcax1RZgbH4fSA</th>\n",
       "      <td>1286</td>\n",
       "      <td>0</td>\n",
       "      <td>0</td>\n",
       "      <td>10</td>\n",
       "      <td>70</td>\n",
       "      <td>16</td>\n",
       "      <td>0</td>\n",
       "      <td>0</td>\n",
       "      <td>0</td>\n",
       "      <td>0</td>\n",
       "      <td>...</td>\n",
       "      <td>0</td>\n",
       "      <td>0</td>\n",
       "      <td>0</td>\n",
       "      <td>0</td>\n",
       "      <td>1</td>\n",
       "      <td>0</td>\n",
       "      <td>0</td>\n",
       "      <td>0</td>\n",
       "      <td>0</td>\n",
       "      <td>0</td>\n",
       "    </tr>\n",
       "  </tbody>\n",
       "</table>\n",
       "<p>5 rows × 324 columns</p>\n",
       "</div>"
      ],
      "text/plain": [
       "                        stars  Churches  Wineries  Barbeque  Nightlife  \\\n",
       "user_id                                                                  \n",
       "CxDOIDnH8gp9KXzpBHJYXw   2855         0         0        28        131   \n",
       "Q9mA60HnY87C1TW5kjAZ6Q   1759         0         0        14        110   \n",
       "FREeRQtjdJU83AFtdETBBw   1472         0         0        11        115   \n",
       "TbhyP24zYZqZ2VJZgu1wrg   1378         0         0        12         88   \n",
       "0BBUmH7Krcax1RZgbH4fSA   1286         0         0        10         70   \n",
       "\n",
       "                        Event Planning & Services  Walking Tours  Pets  \\\n",
       "user_id                                                                  \n",
       "CxDOIDnH8gp9KXzpBHJYXw                         16              0     0   \n",
       "Q9mA60HnY87C1TW5kjAZ6Q                         17              0     0   \n",
       "FREeRQtjdJU83AFtdETBBw                         12              0     1   \n",
       "TbhyP24zYZqZ2VJZgu1wrg                         15              0     0   \n",
       "0BBUmH7Krcax1RZgbH4fSA                         16              0     0   \n",
       "\n",
       "                        Adult Entertainment  Salvadoran  ...  Cabaret  \\\n",
       "user_id                                                  ...            \n",
       "CxDOIDnH8gp9KXzpBHJYXw                    0           1  ...        0   \n",
       "Q9mA60HnY87C1TW5kjAZ6Q                    0           0  ...        0   \n",
       "FREeRQtjdJU83AFtdETBBw                    0           0  ...        0   \n",
       "TbhyP24zYZqZ2VJZgu1wrg                    0           0  ...        0   \n",
       "0BBUmH7Krcax1RZgbH4fSA                    0           0  ...        0   \n",
       "\n",
       "                        Piano Bars  Escape Games  Dog Walkers  German  \\\n",
       "user_id                                                                 \n",
       "CxDOIDnH8gp9KXzpBHJYXw           0             0            0       2   \n",
       "Q9mA60HnY87C1TW5kjAZ6Q           0             0            0       3   \n",
       "FREeRQtjdJU83AFtdETBBw           0             0            0       2   \n",
       "TbhyP24zYZqZ2VJZgu1wrg           0             0            0       1   \n",
       "0BBUmH7Krcax1RZgbH4fSA           0             0            0       1   \n",
       "\n",
       "                        Swiss Food  Discount Store  Video Game Stores  \\\n",
       "user_id                                                                 \n",
       "CxDOIDnH8gp9KXzpBHJYXw           0               0                  0   \n",
       "Q9mA60HnY87C1TW5kjAZ6Q           0               0                  0   \n",
       "FREeRQtjdJU83AFtdETBBw           0               0                  0   \n",
       "TbhyP24zYZqZ2VJZgu1wrg           0               0                  0   \n",
       "0BBUmH7Krcax1RZgbH4fSA           0               0                  0   \n",
       "\n",
       "                        Iberian  South African  \n",
       "user_id                                         \n",
       "CxDOIDnH8gp9KXzpBHJYXw        0              0  \n",
       "Q9mA60HnY87C1TW5kjAZ6Q        0              0  \n",
       "FREeRQtjdJU83AFtdETBBw        0              0  \n",
       "TbhyP24zYZqZ2VJZgu1wrg        0              0  \n",
       "0BBUmH7Krcax1RZgbH4fSA        0              0  \n",
       "\n",
       "[5 rows x 324 columns]"
      ]
     },
     "execution_count": 100,
     "metadata": {},
     "output_type": "execute_result"
    }
   ],
   "source": [
    "user_grp.head()"
   ]
  },
  {
   "cell_type": "code",
   "execution_count": 8,
   "metadata": {},
   "outputs": [],
   "source": [
    "import numpy as np"
   ]
  },
  {
   "cell_type": "code",
   "execution_count": 11,
   "metadata": {},
   "outputs": [],
   "source": [
    "sorted_cats = user_grp.apply(np.sort, axis = 1)"
   ]
  },
  {
   "cell_type": "code",
   "execution_count": 20,
   "metadata": {},
   "outputs": [
    {
     "data": {
      "text/plain": [
       "Int64Index([0], dtype='int64')"
      ]
     },
     "execution_count": 20,
     "metadata": {},
     "output_type": "execute_result"
    }
   ],
   "source": [
    "df_sorted = sorted_cats.to_frame()\n",
    "df_sorted.rename(columns={'0':'category_list'}, inplace=True)\n",
    "df_sorted.columns"
   ]
  },
  {
   "cell_type": "code",
   "execution_count": 43,
   "metadata": {},
   "outputs": [
    {
     "data": {
      "text/html": [
       "<div>\n",
       "<style scoped>\n",
       "    .dataframe tbody tr th:only-of-type {\n",
       "        vertical-align: middle;\n",
       "    }\n",
       "\n",
       "    .dataframe tbody tr th {\n",
       "        vertical-align: top;\n",
       "    }\n",
       "\n",
       "    .dataframe thead th {\n",
       "        text-align: right;\n",
       "    }\n",
       "</style>\n",
       "<table border=\"1\" class=\"dataframe\">\n",
       "  <thead>\n",
       "    <tr style=\"text-align: right;\">\n",
       "      <th></th>\n",
       "      <th>0</th>\n",
       "      <th>top_3</th>\n",
       "      <th>total</th>\n",
       "      <th>top_10</th>\n",
       "      <th>top_5</th>\n",
       "    </tr>\n",
       "    <tr>\n",
       "      <th>user_id</th>\n",
       "      <th></th>\n",
       "      <th></th>\n",
       "      <th></th>\n",
       "      <th></th>\n",
       "      <th></th>\n",
       "    </tr>\n",
       "  </thead>\n",
       "  <tbody>\n",
       "    <tr>\n",
       "      <th>CxDOIDnH8gp9KXzpBHJYXw</th>\n",
       "      <td>[0, 0, 0, 0, 0, 0, 0, 0, 0, 0, 0, 0, 0, 0, 0, ...</td>\n",
       "      <td>[220, 884, 2855]</td>\n",
       "      <td>6262</td>\n",
       "      <td>[69, 74, 86, 115, 130, 131, 154, 220, 884, 2855]</td>\n",
       "      <td>[131, 154, 220, 884, 2855]</td>\n",
       "    </tr>\n",
       "    <tr>\n",
       "      <th>Q9mA60HnY87C1TW5kjAZ6Q</th>\n",
       "      <td>[0, 0, 0, 0, 0, 0, 0, 0, 0, 0, 0, 0, 0, 0, 0, ...</td>\n",
       "      <td>[110, 445, 1759]</td>\n",
       "      <td>3640</td>\n",
       "      <td>[39, 44, 52, 61, 65, 94, 106, 110, 445, 1759]</td>\n",
       "      <td>[94, 106, 110, 445, 1759]</td>\n",
       "    </tr>\n",
       "    <tr>\n",
       "      <th>FREeRQtjdJU83AFtdETBBw</th>\n",
       "      <td>[0, 0, 0, 0, 0, 0, 0, 0, 0, 0, 0, 0, 0, 0, 0, ...</td>\n",
       "      <td>[115, 350, 1472]</td>\n",
       "      <td>3120</td>\n",
       "      <td>[47, 49, 50, 59, 74, 100, 114, 115, 350, 1472]</td>\n",
       "      <td>[100, 114, 115, 350, 1472]</td>\n",
       "    </tr>\n",
       "    <tr>\n",
       "      <th>TbhyP24zYZqZ2VJZgu1wrg</th>\n",
       "      <td>[0, 0, 0, 0, 0, 0, 0, 0, 0, 0, 0, 0, 0, 0, 0, ...</td>\n",
       "      <td>[88, 401, 1378]</td>\n",
       "      <td>2989</td>\n",
       "      <td>[30, 31, 34, 42, 56, 68, 84, 88, 401, 1378]</td>\n",
       "      <td>[68, 84, 88, 401, 1378]</td>\n",
       "    </tr>\n",
       "    <tr>\n",
       "      <th>0BBUmH7Krcax1RZgbH4fSA</th>\n",
       "      <td>[0, 0, 0, 0, 0, 0, 0, 0, 0, 0, 0, 0, 0, 0, 0, ...</td>\n",
       "      <td>[84, 361, 1286]</td>\n",
       "      <td>2816</td>\n",
       "      <td>[27, 40, 43, 57, 60, 68, 70, 84, 361, 1286]</td>\n",
       "      <td>[68, 70, 84, 361, 1286]</td>\n",
       "    </tr>\n",
       "  </tbody>\n",
       "</table>\n",
       "</div>"
      ],
      "text/plain": [
       "                                                                        0  \\\n",
       "user_id                                                                     \n",
       "CxDOIDnH8gp9KXzpBHJYXw  [0, 0, 0, 0, 0, 0, 0, 0, 0, 0, 0, 0, 0, 0, 0, ...   \n",
       "Q9mA60HnY87C1TW5kjAZ6Q  [0, 0, 0, 0, 0, 0, 0, 0, 0, 0, 0, 0, 0, 0, 0, ...   \n",
       "FREeRQtjdJU83AFtdETBBw  [0, 0, 0, 0, 0, 0, 0, 0, 0, 0, 0, 0, 0, 0, 0, ...   \n",
       "TbhyP24zYZqZ2VJZgu1wrg  [0, 0, 0, 0, 0, 0, 0, 0, 0, 0, 0, 0, 0, 0, 0, ...   \n",
       "0BBUmH7Krcax1RZgbH4fSA  [0, 0, 0, 0, 0, 0, 0, 0, 0, 0, 0, 0, 0, 0, 0, ...   \n",
       "\n",
       "                                   top_3  total  \\\n",
       "user_id                                           \n",
       "CxDOIDnH8gp9KXzpBHJYXw  [220, 884, 2855]   6262   \n",
       "Q9mA60HnY87C1TW5kjAZ6Q  [110, 445, 1759]   3640   \n",
       "FREeRQtjdJU83AFtdETBBw  [115, 350, 1472]   3120   \n",
       "TbhyP24zYZqZ2VJZgu1wrg   [88, 401, 1378]   2989   \n",
       "0BBUmH7Krcax1RZgbH4fSA   [84, 361, 1286]   2816   \n",
       "\n",
       "                                                                  top_10  \\\n",
       "user_id                                                                    \n",
       "CxDOIDnH8gp9KXzpBHJYXw  [69, 74, 86, 115, 130, 131, 154, 220, 884, 2855]   \n",
       "Q9mA60HnY87C1TW5kjAZ6Q     [39, 44, 52, 61, 65, 94, 106, 110, 445, 1759]   \n",
       "FREeRQtjdJU83AFtdETBBw    [47, 49, 50, 59, 74, 100, 114, 115, 350, 1472]   \n",
       "TbhyP24zYZqZ2VJZgu1wrg       [30, 31, 34, 42, 56, 68, 84, 88, 401, 1378]   \n",
       "0BBUmH7Krcax1RZgbH4fSA       [27, 40, 43, 57, 60, 68, 70, 84, 361, 1286]   \n",
       "\n",
       "                                             top_5  \n",
       "user_id                                             \n",
       "CxDOIDnH8gp9KXzpBHJYXw  [131, 154, 220, 884, 2855]  \n",
       "Q9mA60HnY87C1TW5kjAZ6Q   [94, 106, 110, 445, 1759]  \n",
       "FREeRQtjdJU83AFtdETBBw  [100, 114, 115, 350, 1472]  \n",
       "TbhyP24zYZqZ2VJZgu1wrg     [68, 84, 88, 401, 1378]  \n",
       "0BBUmH7Krcax1RZgbH4fSA     [68, 70, 84, 361, 1286]  "
      ]
     },
     "execution_count": 43,
     "metadata": {},
     "output_type": "execute_result"
    }
   ],
   "source": [
    "df_sorted['top_5'] = df_sorted[0].apply(lambda l: l[-5:])\n",
    "df_sorted['total'] = df_sorted[0].apply(lambda l: sum(l))\n",
    "df_sorted.head()"
   ]
  },
  {
   "cell_type": "code",
   "execution_count": 61,
   "metadata": {},
   "outputs": [],
   "source": [
    "df = df_sorted.drop(0, axis=1 )"
   ]
  },
  {
   "cell_type": "code",
   "execution_count": 62,
   "metadata": {},
   "outputs": [
    {
     "data": {
      "text/html": [
       "<div>\n",
       "<style scoped>\n",
       "    .dataframe tbody tr th:only-of-type {\n",
       "        vertical-align: middle;\n",
       "    }\n",
       "\n",
       "    .dataframe tbody tr th {\n",
       "        vertical-align: top;\n",
       "    }\n",
       "\n",
       "    .dataframe thead th {\n",
       "        text-align: right;\n",
       "    }\n",
       "</style>\n",
       "<table border=\"1\" class=\"dataframe\">\n",
       "  <thead>\n",
       "    <tr style=\"text-align: right;\">\n",
       "      <th></th>\n",
       "      <th>top_3</th>\n",
       "      <th>total</th>\n",
       "      <th>top_5</th>\n",
       "    </tr>\n",
       "    <tr>\n",
       "      <th>user_id</th>\n",
       "      <th></th>\n",
       "      <th></th>\n",
       "      <th></th>\n",
       "    </tr>\n",
       "  </thead>\n",
       "  <tbody>\n",
       "    <tr>\n",
       "      <th>CxDOIDnH8gp9KXzpBHJYXw</th>\n",
       "      <td>[220, 884, 2855]</td>\n",
       "      <td>6262</td>\n",
       "      <td>[131, 154, 220, 884, 2855]</td>\n",
       "    </tr>\n",
       "    <tr>\n",
       "      <th>Q9mA60HnY87C1TW5kjAZ6Q</th>\n",
       "      <td>[110, 445, 1759]</td>\n",
       "      <td>3640</td>\n",
       "      <td>[94, 106, 110, 445, 1759]</td>\n",
       "    </tr>\n",
       "    <tr>\n",
       "      <th>FREeRQtjdJU83AFtdETBBw</th>\n",
       "      <td>[115, 350, 1472]</td>\n",
       "      <td>3120</td>\n",
       "      <td>[100, 114, 115, 350, 1472]</td>\n",
       "    </tr>\n",
       "    <tr>\n",
       "      <th>TbhyP24zYZqZ2VJZgu1wrg</th>\n",
       "      <td>[88, 401, 1378]</td>\n",
       "      <td>2989</td>\n",
       "      <td>[68, 84, 88, 401, 1378]</td>\n",
       "    </tr>\n",
       "    <tr>\n",
       "      <th>0BBUmH7Krcax1RZgbH4fSA</th>\n",
       "      <td>[84, 361, 1286]</td>\n",
       "      <td>2816</td>\n",
       "      <td>[68, 70, 84, 361, 1286]</td>\n",
       "    </tr>\n",
       "  </tbody>\n",
       "</table>\n",
       "</div>"
      ],
      "text/plain": [
       "                                   top_3  total                       top_5\n",
       "user_id                                                                    \n",
       "CxDOIDnH8gp9KXzpBHJYXw  [220, 884, 2855]   6262  [131, 154, 220, 884, 2855]\n",
       "Q9mA60HnY87C1TW5kjAZ6Q  [110, 445, 1759]   3640   [94, 106, 110, 445, 1759]\n",
       "FREeRQtjdJU83AFtdETBBw  [115, 350, 1472]   3120  [100, 114, 115, 350, 1472]\n",
       "TbhyP24zYZqZ2VJZgu1wrg   [88, 401, 1378]   2989     [68, 84, 88, 401, 1378]\n",
       "0BBUmH7Krcax1RZgbH4fSA   [84, 361, 1286]   2816     [68, 70, 84, 361, 1286]"
      ]
     },
     "execution_count": 62,
     "metadata": {},
     "output_type": "execute_result"
    }
   ],
   "source": [
    "df.drop('top_10', axis=1, inplace=True)\n",
    "df.head()"
   ]
  },
  {
   "cell_type": "code",
   "execution_count": 63,
   "metadata": {},
   "outputs": [
    {
     "data": {
      "text/plain": [
       "(73041, 3)"
      ]
     },
     "execution_count": 63,
     "metadata": {},
     "output_type": "execute_result"
    }
   ],
   "source": [
    "df.shape"
   ]
  },
  {
   "cell_type": "code",
   "execution_count": 64,
   "metadata": {},
   "outputs": [
    {
     "data": {
      "text/html": [
       "<div>\n",
       "<style scoped>\n",
       "    .dataframe tbody tr th:only-of-type {\n",
       "        vertical-align: middle;\n",
       "    }\n",
       "\n",
       "    .dataframe tbody tr th {\n",
       "        vertical-align: top;\n",
       "    }\n",
       "\n",
       "    .dataframe thead th {\n",
       "        text-align: right;\n",
       "    }\n",
       "</style>\n",
       "<table border=\"1\" class=\"dataframe\">\n",
       "  <thead>\n",
       "    <tr style=\"text-align: right;\">\n",
       "      <th></th>\n",
       "      <th>top_3</th>\n",
       "      <th>total</th>\n",
       "      <th>top_5</th>\n",
       "      <th>others</th>\n",
       "    </tr>\n",
       "    <tr>\n",
       "      <th>user_id</th>\n",
       "      <th></th>\n",
       "      <th></th>\n",
       "      <th></th>\n",
       "      <th></th>\n",
       "    </tr>\n",
       "  </thead>\n",
       "  <tbody>\n",
       "    <tr>\n",
       "      <th>CxDOIDnH8gp9KXzpBHJYXw</th>\n",
       "      <td>[220, 884, 2855]</td>\n",
       "      <td>6262</td>\n",
       "      <td>[131, 154, 220, 884, 2855]</td>\n",
       "      <td>2018</td>\n",
       "    </tr>\n",
       "    <tr>\n",
       "      <th>Q9mA60HnY87C1TW5kjAZ6Q</th>\n",
       "      <td>[110, 445, 1759]</td>\n",
       "      <td>3640</td>\n",
       "      <td>[94, 106, 110, 445, 1759]</td>\n",
       "      <td>1126</td>\n",
       "    </tr>\n",
       "    <tr>\n",
       "      <th>FREeRQtjdJU83AFtdETBBw</th>\n",
       "      <td>[115, 350, 1472]</td>\n",
       "      <td>3120</td>\n",
       "      <td>[100, 114, 115, 350, 1472]</td>\n",
       "      <td>969</td>\n",
       "    </tr>\n",
       "    <tr>\n",
       "      <th>TbhyP24zYZqZ2VJZgu1wrg</th>\n",
       "      <td>[88, 401, 1378]</td>\n",
       "      <td>2989</td>\n",
       "      <td>[68, 84, 88, 401, 1378]</td>\n",
       "      <td>970</td>\n",
       "    </tr>\n",
       "    <tr>\n",
       "      <th>0BBUmH7Krcax1RZgbH4fSA</th>\n",
       "      <td>[84, 361, 1286]</td>\n",
       "      <td>2816</td>\n",
       "      <td>[68, 70, 84, 361, 1286]</td>\n",
       "      <td>947</td>\n",
       "    </tr>\n",
       "  </tbody>\n",
       "</table>\n",
       "</div>"
      ],
      "text/plain": [
       "                                   top_3  total                       top_5  \\\n",
       "user_id                                                                       \n",
       "CxDOIDnH8gp9KXzpBHJYXw  [220, 884, 2855]   6262  [131, 154, 220, 884, 2855]   \n",
       "Q9mA60HnY87C1TW5kjAZ6Q  [110, 445, 1759]   3640   [94, 106, 110, 445, 1759]   \n",
       "FREeRQtjdJU83AFtdETBBw  [115, 350, 1472]   3120  [100, 114, 115, 350, 1472]   \n",
       "TbhyP24zYZqZ2VJZgu1wrg   [88, 401, 1378]   2989     [68, 84, 88, 401, 1378]   \n",
       "0BBUmH7Krcax1RZgbH4fSA   [84, 361, 1286]   2816     [68, 70, 84, 361, 1286]   \n",
       "\n",
       "                        others  \n",
       "user_id                         \n",
       "CxDOIDnH8gp9KXzpBHJYXw    2018  \n",
       "Q9mA60HnY87C1TW5kjAZ6Q    1126  \n",
       "FREeRQtjdJU83AFtdETBBw     969  \n",
       "TbhyP24zYZqZ2VJZgu1wrg     970  \n",
       "0BBUmH7Krcax1RZgbH4fSA     947  "
      ]
     },
     "execution_count": 64,
     "metadata": {},
     "output_type": "execute_result"
    }
   ],
   "source": [
    "df['others'] = df.apply(lambda l: l['total']-sum(l['top_5']), axis=1)\n",
    "df.head()"
   ]
  },
  {
   "cell_type": "code",
   "execution_count": 65,
   "metadata": {},
   "outputs": [],
   "source": [
    "df = pd.concat([df['top_5'].apply(pd.Series), df], axis = 1)"
   ]
  },
  {
   "cell_type": "code",
   "execution_count": 66,
   "metadata": {},
   "outputs": [
    {
     "data": {
      "text/html": [
       "<div>\n",
       "<style scoped>\n",
       "    .dataframe tbody tr th:only-of-type {\n",
       "        vertical-align: middle;\n",
       "    }\n",
       "\n",
       "    .dataframe tbody tr th {\n",
       "        vertical-align: top;\n",
       "    }\n",
       "\n",
       "    .dataframe thead th {\n",
       "        text-align: right;\n",
       "    }\n",
       "</style>\n",
       "<table border=\"1\" class=\"dataframe\">\n",
       "  <thead>\n",
       "    <tr style=\"text-align: right;\">\n",
       "      <th></th>\n",
       "      <th>0</th>\n",
       "      <th>1</th>\n",
       "      <th>2</th>\n",
       "      <th>3</th>\n",
       "      <th>4</th>\n",
       "      <th>top_3</th>\n",
       "      <th>total</th>\n",
       "      <th>top_5</th>\n",
       "      <th>others</th>\n",
       "    </tr>\n",
       "    <tr>\n",
       "      <th>user_id</th>\n",
       "      <th></th>\n",
       "      <th></th>\n",
       "      <th></th>\n",
       "      <th></th>\n",
       "      <th></th>\n",
       "      <th></th>\n",
       "      <th></th>\n",
       "      <th></th>\n",
       "      <th></th>\n",
       "    </tr>\n",
       "  </thead>\n",
       "  <tbody>\n",
       "    <tr>\n",
       "      <th>CxDOIDnH8gp9KXzpBHJYXw</th>\n",
       "      <td>131</td>\n",
       "      <td>154</td>\n",
       "      <td>220</td>\n",
       "      <td>884</td>\n",
       "      <td>2855</td>\n",
       "      <td>[220, 884, 2855]</td>\n",
       "      <td>6262</td>\n",
       "      <td>[131, 154, 220, 884, 2855]</td>\n",
       "      <td>2018</td>\n",
       "    </tr>\n",
       "    <tr>\n",
       "      <th>Q9mA60HnY87C1TW5kjAZ6Q</th>\n",
       "      <td>94</td>\n",
       "      <td>106</td>\n",
       "      <td>110</td>\n",
       "      <td>445</td>\n",
       "      <td>1759</td>\n",
       "      <td>[110, 445, 1759]</td>\n",
       "      <td>3640</td>\n",
       "      <td>[94, 106, 110, 445, 1759]</td>\n",
       "      <td>1126</td>\n",
       "    </tr>\n",
       "    <tr>\n",
       "      <th>FREeRQtjdJU83AFtdETBBw</th>\n",
       "      <td>100</td>\n",
       "      <td>114</td>\n",
       "      <td>115</td>\n",
       "      <td>350</td>\n",
       "      <td>1472</td>\n",
       "      <td>[115, 350, 1472]</td>\n",
       "      <td>3120</td>\n",
       "      <td>[100, 114, 115, 350, 1472]</td>\n",
       "      <td>969</td>\n",
       "    </tr>\n",
       "    <tr>\n",
       "      <th>TbhyP24zYZqZ2VJZgu1wrg</th>\n",
       "      <td>68</td>\n",
       "      <td>84</td>\n",
       "      <td>88</td>\n",
       "      <td>401</td>\n",
       "      <td>1378</td>\n",
       "      <td>[88, 401, 1378]</td>\n",
       "      <td>2989</td>\n",
       "      <td>[68, 84, 88, 401, 1378]</td>\n",
       "      <td>970</td>\n",
       "    </tr>\n",
       "    <tr>\n",
       "      <th>0BBUmH7Krcax1RZgbH4fSA</th>\n",
       "      <td>68</td>\n",
       "      <td>70</td>\n",
       "      <td>84</td>\n",
       "      <td>361</td>\n",
       "      <td>1286</td>\n",
       "      <td>[84, 361, 1286]</td>\n",
       "      <td>2816</td>\n",
       "      <td>[68, 70, 84, 361, 1286]</td>\n",
       "      <td>947</td>\n",
       "    </tr>\n",
       "  </tbody>\n",
       "</table>\n",
       "</div>"
      ],
      "text/plain": [
       "                          0    1    2    3     4             top_3  total  \\\n",
       "user_id                                                                     \n",
       "CxDOIDnH8gp9KXzpBHJYXw  131  154  220  884  2855  [220, 884, 2855]   6262   \n",
       "Q9mA60HnY87C1TW5kjAZ6Q   94  106  110  445  1759  [110, 445, 1759]   3640   \n",
       "FREeRQtjdJU83AFtdETBBw  100  114  115  350  1472  [115, 350, 1472]   3120   \n",
       "TbhyP24zYZqZ2VJZgu1wrg   68   84   88  401  1378   [88, 401, 1378]   2989   \n",
       "0BBUmH7Krcax1RZgbH4fSA   68   70   84  361  1286   [84, 361, 1286]   2816   \n",
       "\n",
       "                                             top_5  others  \n",
       "user_id                                                     \n",
       "CxDOIDnH8gp9KXzpBHJYXw  [131, 154, 220, 884, 2855]    2018  \n",
       "Q9mA60HnY87C1TW5kjAZ6Q   [94, 106, 110, 445, 1759]    1126  \n",
       "FREeRQtjdJU83AFtdETBBw  [100, 114, 115, 350, 1472]     969  \n",
       "TbhyP24zYZqZ2VJZgu1wrg     [68, 84, 88, 401, 1378]     970  \n",
       "0BBUmH7Krcax1RZgbH4fSA     [68, 70, 84, 361, 1286]     947  "
      ]
     },
     "execution_count": 66,
     "metadata": {},
     "output_type": "execute_result"
    }
   ],
   "source": [
    "df.head()"
   ]
  },
  {
   "cell_type": "code",
   "execution_count": 67,
   "metadata": {},
   "outputs": [
    {
     "data": {
      "text/html": [
       "<div>\n",
       "<style scoped>\n",
       "    .dataframe tbody tr th:only-of-type {\n",
       "        vertical-align: middle;\n",
       "    }\n",
       "\n",
       "    .dataframe tbody tr th {\n",
       "        vertical-align: top;\n",
       "    }\n",
       "\n",
       "    .dataframe thead th {\n",
       "        text-align: right;\n",
       "    }\n",
       "</style>\n",
       "<table border=\"1\" class=\"dataframe\">\n",
       "  <thead>\n",
       "    <tr style=\"text-align: right;\">\n",
       "      <th></th>\n",
       "      <th>Fifth</th>\n",
       "      <th>Fourth</th>\n",
       "      <th>Third</th>\n",
       "      <th>Second</th>\n",
       "      <th>Top</th>\n",
       "      <th>top_3</th>\n",
       "      <th>total</th>\n",
       "      <th>top_5</th>\n",
       "      <th>others</th>\n",
       "    </tr>\n",
       "    <tr>\n",
       "      <th>user_id</th>\n",
       "      <th></th>\n",
       "      <th></th>\n",
       "      <th></th>\n",
       "      <th></th>\n",
       "      <th></th>\n",
       "      <th></th>\n",
       "      <th></th>\n",
       "      <th></th>\n",
       "      <th></th>\n",
       "    </tr>\n",
       "  </thead>\n",
       "  <tbody>\n",
       "    <tr>\n",
       "      <th>CxDOIDnH8gp9KXzpBHJYXw</th>\n",
       "      <td>131</td>\n",
       "      <td>154</td>\n",
       "      <td>220</td>\n",
       "      <td>884</td>\n",
       "      <td>2855</td>\n",
       "      <td>[220, 884, 2855]</td>\n",
       "      <td>6262</td>\n",
       "      <td>[131, 154, 220, 884, 2855]</td>\n",
       "      <td>2018</td>\n",
       "    </tr>\n",
       "    <tr>\n",
       "      <th>Q9mA60HnY87C1TW5kjAZ6Q</th>\n",
       "      <td>94</td>\n",
       "      <td>106</td>\n",
       "      <td>110</td>\n",
       "      <td>445</td>\n",
       "      <td>1759</td>\n",
       "      <td>[110, 445, 1759]</td>\n",
       "      <td>3640</td>\n",
       "      <td>[94, 106, 110, 445, 1759]</td>\n",
       "      <td>1126</td>\n",
       "    </tr>\n",
       "    <tr>\n",
       "      <th>FREeRQtjdJU83AFtdETBBw</th>\n",
       "      <td>100</td>\n",
       "      <td>114</td>\n",
       "      <td>115</td>\n",
       "      <td>350</td>\n",
       "      <td>1472</td>\n",
       "      <td>[115, 350, 1472]</td>\n",
       "      <td>3120</td>\n",
       "      <td>[100, 114, 115, 350, 1472]</td>\n",
       "      <td>969</td>\n",
       "    </tr>\n",
       "  </tbody>\n",
       "</table>\n",
       "</div>"
      ],
      "text/plain": [
       "                        Fifth  Fourth  Third  Second   Top             top_3  \\\n",
       "user_id                                                                        \n",
       "CxDOIDnH8gp9KXzpBHJYXw    131     154    220     884  2855  [220, 884, 2855]   \n",
       "Q9mA60HnY87C1TW5kjAZ6Q     94     106    110     445  1759  [110, 445, 1759]   \n",
       "FREeRQtjdJU83AFtdETBBw    100     114    115     350  1472  [115, 350, 1472]   \n",
       "\n",
       "                        total                       top_5  others  \n",
       "user_id                                                            \n",
       "CxDOIDnH8gp9KXzpBHJYXw   6262  [131, 154, 220, 884, 2855]    2018  \n",
       "Q9mA60HnY87C1TW5kjAZ6Q   3640   [94, 106, 110, 445, 1759]    1126  \n",
       "FREeRQtjdJU83AFtdETBBw   3120  [100, 114, 115, 350, 1472]     969  "
      ]
     },
     "execution_count": 67,
     "metadata": {},
     "output_type": "execute_result"
    }
   ],
   "source": [
    "df.rename(columns={0:'Fifth', 1:'Fourth', 2:'Third', 3:'Second', 4:'Top'}, inplace=True)\n",
    "df.head(3)"
   ]
  },
  {
   "cell_type": "code",
   "execution_count": 75,
   "metadata": {},
   "outputs": [],
   "source": [
    "df_plot = df.head(25)"
   ]
  },
  {
   "cell_type": "code",
   "execution_count": 76,
   "metadata": {},
   "outputs": [
    {
     "data": {
      "text/html": [
       "<div>\n",
       "<style scoped>\n",
       "    .dataframe tbody tr th:only-of-type {\n",
       "        vertical-align: middle;\n",
       "    }\n",
       "\n",
       "    .dataframe tbody tr th {\n",
       "        vertical-align: top;\n",
       "    }\n",
       "\n",
       "    .dataframe thead th {\n",
       "        text-align: right;\n",
       "    }\n",
       "</style>\n",
       "<table border=\"1\" class=\"dataframe\">\n",
       "  <thead>\n",
       "    <tr style=\"text-align: right;\">\n",
       "      <th></th>\n",
       "      <th>Fifth</th>\n",
       "      <th>Fourth</th>\n",
       "      <th>Third</th>\n",
       "      <th>Second</th>\n",
       "      <th>Top</th>\n",
       "      <th>total</th>\n",
       "      <th>others</th>\n",
       "    </tr>\n",
       "  </thead>\n",
       "  <tbody>\n",
       "    <tr>\n",
       "      <th>0</th>\n",
       "      <td>131</td>\n",
       "      <td>154</td>\n",
       "      <td>220</td>\n",
       "      <td>884</td>\n",
       "      <td>2855</td>\n",
       "      <td>6262</td>\n",
       "      <td>2018</td>\n",
       "    </tr>\n",
       "    <tr>\n",
       "      <th>1</th>\n",
       "      <td>94</td>\n",
       "      <td>106</td>\n",
       "      <td>110</td>\n",
       "      <td>445</td>\n",
       "      <td>1759</td>\n",
       "      <td>3640</td>\n",
       "      <td>1126</td>\n",
       "    </tr>\n",
       "    <tr>\n",
       "      <th>2</th>\n",
       "      <td>100</td>\n",
       "      <td>114</td>\n",
       "      <td>115</td>\n",
       "      <td>350</td>\n",
       "      <td>1472</td>\n",
       "      <td>3120</td>\n",
       "      <td>969</td>\n",
       "    </tr>\n",
       "  </tbody>\n",
       "</table>\n",
       "</div>"
      ],
      "text/plain": [
       "   Fifth  Fourth  Third  Second   Top  total  others\n",
       "0    131     154    220     884  2855   6262    2018\n",
       "1     94     106    110     445  1759   3640    1126\n",
       "2    100     114    115     350  1472   3120     969"
      ]
     },
     "execution_count": 76,
     "metadata": {},
     "output_type": "execute_result"
    }
   ],
   "source": [
    "df_plot.reset_index(inplace=True)\n",
    "df_plot.drop(['user_id','top_3', 'top_5'], axis=1, inplace=True)\n",
    "df_plot.head(3)"
   ]
  },
  {
   "cell_type": "code",
   "execution_count": 90,
   "metadata": {},
   "outputs": [
    {
     "data": {
      "image/png": "[encoded data removed]",
      "text/plain": [
       "<Figure size 1080x720 with 1 Axes>"
      ]
     },
     "metadata": {
      "needs_background": "light"
     },
     "output_type": "display_data"
    }
   ],
   "source": [
    "barWidth = 0.5\n",
    "plt.figure(figsize=(15, 10))\n",
    "plt.bar(df_plot.index, df_plot['Top'], color='#cc0000', edgecolor='white', width=barWidth, label='Top category')\n",
    "plt.bar(df_plot.index,  df_plot['Second'], bottom=df_plot['Top'], color='#557f2d', \n",
    "        edgecolor='white', width=barWidth, label='Second category')\n",
    "plt.bar(df_plot.index, df_plot['Third'], bottom=np.array(df_plot['Top'])+np.array(df_plot['Second']), color='#2d7f5e', \n",
    "        edgecolor='white', width=barWidth, label='Third category')\n",
    "plt.bar(df_plot.index, df_plot['Fourth'], bottom=np.array(df_plot['Top'])+np.array(df_plot['Second'])+np.array(df_plot['Third']), \n",
    "        color='#ff9933', edgecolor='white', width=barWidth, label='Fourth category')\n",
    "plt.bar(df_plot.index, df_plot['Fifth'], \n",
    "        bottom=np.array(df_plot['Top'])+np.array(df_plot['Second'])+np.array(df_plot['Third'])+np.array(df_plot['Fourth']),\n",
    "        color='#3399ff', edgecolor='white', width=barWidth, label='Fifth category')\n",
    "plt.bar(df_plot.index, df_plot['others'], \n",
    "        bottom=np.array(df_plot['Top'])+np.array(df_plot['Second'])+np.array(df_plot['Third'])+np.array(df_plot['Fourth'])+np.array(df_plot['Fifth']),\n",
    "        color='#c2d6d6', edgecolor='white', width=barWidth, label='Other categories')\n",
    "# Custom X axis\n",
    "plt.xticks(df_plot.index, fontweight='bold')\n",
    "# plt.xlabel(\"group\")\n",
    "plt.legend(loc='right') \n",
    "# Show graphic\n",
    "plt.show()\n"
   ]
  },
  {
   "cell_type": "code",
   "execution_count": 106,
   "metadata": {},
   "outputs": [
    {
     "data": {
      "text/html": [
       "<div>\n",
       "<style scoped>\n",
       "    .dataframe tbody tr th:only-of-type {\n",
       "        vertical-align: middle;\n",
       "    }\n",
       "\n",
       "    .dataframe tbody tr th {\n",
       "        vertical-align: top;\n",
       "    }\n",
       "\n",
       "    .dataframe thead th {\n",
       "        text-align: right;\n",
       "    }\n",
       "</style>\n",
       "<table border=\"1\" class=\"dataframe\">\n",
       "  <thead>\n",
       "    <tr style=\"text-align: right;\">\n",
       "      <th></th>\n",
       "      <th>Fifth</th>\n",
       "      <th>Fourth</th>\n",
       "      <th>Third</th>\n",
       "      <th>Second</th>\n",
       "      <th>Top</th>\n",
       "      <th>top_3</th>\n",
       "      <th>total</th>\n",
       "      <th>top_5</th>\n",
       "      <th>others</th>\n",
       "    </tr>\n",
       "    <tr>\n",
       "      <th>user_id</th>\n",
       "      <th></th>\n",
       "      <th></th>\n",
       "      <th></th>\n",
       "      <th></th>\n",
       "      <th></th>\n",
       "      <th></th>\n",
       "      <th></th>\n",
       "      <th></th>\n",
       "      <th></th>\n",
       "    </tr>\n",
       "  </thead>\n",
       "  <tbody>\n",
       "    <tr>\n",
       "      <th>CxDOIDnH8gp9KXzpBHJYXw</th>\n",
       "      <td>131</td>\n",
       "      <td>154</td>\n",
       "      <td>220</td>\n",
       "      <td>884</td>\n",
       "      <td>2855</td>\n",
       "      <td>[220, 884, 2855]</td>\n",
       "      <td>6262</td>\n",
       "      <td>[131, 154, 220, 884, 2855]</td>\n",
       "      <td>2018</td>\n",
       "    </tr>\n",
       "    <tr>\n",
       "      <th>Q9mA60HnY87C1TW5kjAZ6Q</th>\n",
       "      <td>94</td>\n",
       "      <td>106</td>\n",
       "      <td>110</td>\n",
       "      <td>445</td>\n",
       "      <td>1759</td>\n",
       "      <td>[110, 445, 1759]</td>\n",
       "      <td>3640</td>\n",
       "      <td>[94, 106, 110, 445, 1759]</td>\n",
       "      <td>1126</td>\n",
       "    </tr>\n",
       "  </tbody>\n",
       "</table>\n",
       "</div>"
      ],
      "text/plain": [
       "                        Fifth  Fourth  Third  Second   Top             top_3  \\\n",
       "user_id                                                                        \n",
       "CxDOIDnH8gp9KXzpBHJYXw    131     154    220     884  2855  [220, 884, 2855]   \n",
       "Q9mA60HnY87C1TW5kjAZ6Q     94     106    110     445  1759  [110, 445, 1759]   \n",
       "\n",
       "                        total                       top_5  others  \n",
       "user_id                                                            \n",
       "CxDOIDnH8gp9KXzpBHJYXw   6262  [131, 154, 220, 884, 2855]    2018  \n",
       "Q9mA60HnY87C1TW5kjAZ6Q   3640   [94, 106, 110, 445, 1759]    1126  "
      ]
     },
     "execution_count": 106,
     "metadata": {},
     "output_type": "execute_result"
    }
   ],
   "source": [
    "df_per = df.head(30)\n",
    "df_per.head(2)"
   ]
  },
  {
   "cell_type": "code",
   "execution_count": 107,
   "metadata": {},
   "outputs": [],
   "source": [
    "df_per.reset_index(inplace=True)"
   ]
  },
  {
   "cell_type": "code",
   "execution_count": 108,
   "metadata": {},
   "outputs": [
    {
     "name": "stderr",
     "output_type": "stream",
     "text": [
      "C:\\ProgramData\\Anaconda3\\lib\\site-packages\\ipykernel_launcher.py:1: SettingWithCopyWarning: \n",
      "A value is trying to be set on a copy of a slice from a DataFrame.\n",
      "Try using .loc[row_indexer,col_indexer] = value instead\n",
      "\n",
      "See the caveats in the documentation: http://pandas.pydata.org/pandas-docs/stable/indexing.html#indexing-view-versus-copy\n",
      "  \"\"\"Entry point for launching an IPython kernel.\n",
      "C:\\ProgramData\\Anaconda3\\lib\\site-packages\\ipykernel_launcher.py:2: SettingWithCopyWarning: \n",
      "A value is trying to be set on a copy of a slice from a DataFrame.\n",
      "Try using .loc[row_indexer,col_indexer] = value instead\n",
      "\n",
      "See the caveats in the documentation: http://pandas.pydata.org/pandas-docs/stable/indexing.html#indexing-view-versus-copy\n",
      "  \n",
      "C:\\ProgramData\\Anaconda3\\lib\\site-packages\\ipykernel_launcher.py:3: SettingWithCopyWarning: \n",
      "A value is trying to be set on a copy of a slice from a DataFrame.\n",
      "Try using .loc[row_indexer,col_indexer] = value instead\n",
      "\n",
      "See the caveats in the documentation: http://pandas.pydata.org/pandas-docs/stable/indexing.html#indexing-view-versus-copy\n",
      "  This is separate from the ipykernel package so we can avoid doing imports until\n",
      "C:\\ProgramData\\Anaconda3\\lib\\site-packages\\ipykernel_launcher.py:4: SettingWithCopyWarning: \n",
      "A value is trying to be set on a copy of a slice from a DataFrame.\n",
      "Try using .loc[row_indexer,col_indexer] = value instead\n",
      "\n",
      "See the caveats in the documentation: http://pandas.pydata.org/pandas-docs/stable/indexing.html#indexing-view-versus-copy\n",
      "  after removing the cwd from sys.path.\n",
      "C:\\ProgramData\\Anaconda3\\lib\\site-packages\\ipykernel_launcher.py:5: SettingWithCopyWarning: \n",
      "A value is trying to be set on a copy of a slice from a DataFrame.\n",
      "Try using .loc[row_indexer,col_indexer] = value instead\n",
      "\n",
      "See the caveats in the documentation: http://pandas.pydata.org/pandas-docs/stable/indexing.html#indexing-view-versus-copy\n",
      "  \"\"\"\n"
     ]
    },
    {
     "data": {
      "text/html": [
       "<div>\n",
       "<style scoped>\n",
       "    .dataframe tbody tr th:only-of-type {\n",
       "        vertical-align: middle;\n",
       "    }\n",
       "\n",
       "    .dataframe tbody tr th {\n",
       "        vertical-align: top;\n",
       "    }\n",
       "\n",
       "    .dataframe thead th {\n",
       "        text-align: right;\n",
       "    }\n",
       "</style>\n",
       "<table border=\"1\" class=\"dataframe\">\n",
       "  <thead>\n",
       "    <tr style=\"text-align: right;\">\n",
       "      <th></th>\n",
       "      <th>user_id</th>\n",
       "      <th>Fifth</th>\n",
       "      <th>Fourth</th>\n",
       "      <th>Third</th>\n",
       "      <th>Second</th>\n",
       "      <th>Top</th>\n",
       "      <th>top_3</th>\n",
       "      <th>total</th>\n",
       "      <th>top_5</th>\n",
       "      <th>others</th>\n",
       "    </tr>\n",
       "  </thead>\n",
       "  <tbody>\n",
       "    <tr>\n",
       "      <th>0</th>\n",
       "      <td>CxDOIDnH8gp9KXzpBHJYXw</td>\n",
       "      <td>2.091983</td>\n",
       "      <td>2.459278</td>\n",
       "      <td>3.513255</td>\n",
       "      <td>14.116896</td>\n",
       "      <td>45.592462</td>\n",
       "      <td>[220, 884, 2855]</td>\n",
       "      <td>6262</td>\n",
       "      <td>[131, 154, 220, 884, 2855]</td>\n",
       "      <td>2018</td>\n",
       "    </tr>\n",
       "    <tr>\n",
       "      <th>1</th>\n",
       "      <td>Q9mA60HnY87C1TW5kjAZ6Q</td>\n",
       "      <td>2.582418</td>\n",
       "      <td>2.912088</td>\n",
       "      <td>3.021978</td>\n",
       "      <td>12.225275</td>\n",
       "      <td>48.324176</td>\n",
       "      <td>[110, 445, 1759]</td>\n",
       "      <td>3640</td>\n",
       "      <td>[94, 106, 110, 445, 1759]</td>\n",
       "      <td>1126</td>\n",
       "    </tr>\n",
       "  </tbody>\n",
       "</table>\n",
       "</div>"
      ],
      "text/plain": [
       "                  user_id     Fifth    Fourth     Third     Second        Top  \\\n",
       "0  CxDOIDnH8gp9KXzpBHJYXw  2.091983  2.459278  3.513255  14.116896  45.592462   \n",
       "1  Q9mA60HnY87C1TW5kjAZ6Q  2.582418  2.912088  3.021978  12.225275  48.324176   \n",
       "\n",
       "              top_3  total                       top_5  others  \n",
       "0  [220, 884, 2855]   6262  [131, 154, 220, 884, 2855]    2018  \n",
       "1  [110, 445, 1759]   3640   [94, 106, 110, 445, 1759]    1126  "
      ]
     },
     "execution_count": 108,
     "metadata": {},
     "output_type": "execute_result"
    }
   ],
   "source": [
    "df_per['Top'] = df_per.apply(lambda l: l['Top']/l['total']*100, axis=1)\n",
    "df_per['Second'] = df_per.apply(lambda l: l['Second']/l['total']*100, axis=1)\n",
    "df_per['Third'] = df_per.apply(lambda l: l['Third']/l['total']*100, axis=1)\n",
    "df_per['Fourth'] = df_per.apply(lambda l: l['Fourth']/l['total']*100, axis=1)\n",
    "df_per['Fifth'] = df_per.apply(lambda l: l['Fifth']/l['total']*100, axis=1)\n",
    "df_per.head(2)"
   ]
  },
  {
   "cell_type": "code",
   "execution_count": 109,
   "metadata": {},
   "outputs": [
    {
     "name": "stderr",
     "output_type": "stream",
     "text": [
      "C:\\ProgramData\\Anaconda3\\lib\\site-packages\\ipykernel_launcher.py:1: SettingWithCopyWarning: \n",
      "A value is trying to be set on a copy of a slice from a DataFrame.\n",
      "Try using .loc[row_indexer,col_indexer] = value instead\n",
      "\n",
      "See the caveats in the documentation: http://pandas.pydata.org/pandas-docs/stable/indexing.html#indexing-view-versus-copy\n",
      "  \"\"\"Entry point for launching an IPython kernel.\n"
     ]
    }
   ],
   "source": [
    "df_per['others'] = df_per.apply(lambda l: l['others']/l['total']*100, axis=1)"
   ]
  },
  {
   "cell_type": "code",
   "execution_count": 127,
   "metadata": {},
   "outputs": [
    {
     "data": {
      "text/plain": [
       "Int64Index([ 1,  2,  3,  4,  5,  6,  7,  8,  9, 10, 11, 12, 13, 14, 15, 16, 17,\n",
       "            18, 19, 20, 21, 22, 23, 24, 25, 26, 27, 28, 29, 30],\n",
       "           dtype='int64')"
      ]
     },
     "execution_count": 127,
     "metadata": {},
     "output_type": "execute_result"
    }
   ],
   "source": [
    "df_per.index = np.arange(1, len(df_per)+1)\n",
    "df_per.index"
   ]
  },
  {
   "cell_type": "code",
   "execution_count": 131,
   "metadata": {},
   "outputs": [
    {
     "data": {
      "image/png": "[encoded data removed]",
      "text/plain": [
       "<Figure size 1080x720 with 1 Axes>"
      ]
     },
     "metadata": {
      "needs_background": "light"
     },
     "output_type": "display_data"
    }
   ],
   "source": [
    "barWidth = 0.5\n",
    "plt.figure(figsize=(15, 10))\n",
    "plt.bar(df_per.index, df_per['Top'], color='#cc0000', edgecolor='white', width=barWidth, label='Top category')\n",
    "plt.bar(df_per.index,  df_per['Second'], bottom=df_per['Top'], color='#557f2d', \n",
    "        edgecolor='white', width=barWidth, label='Second category')\n",
    "plt.bar(df_per.index, df_per['Third'], bottom=np.array(df_per['Top'])+np.array(df_per['Second']), color='#2d7f5e', \n",
    "        edgecolor='white', width=barWidth, label='Third category')\n",
    "plt.bar(df_per.index, df_per['Fourth'], bottom=np.array(df_per['Top'])+np.array(df_per['Second'])+np.array(df_per['Third']), \n",
    "        color='#ff9933', edgecolor='white', width=barWidth, label='Fourth category')\n",
    "plt.bar(df_per.index, df_per['Fifth'], \n",
    "        bottom=np.array(df_per['Top'])+np.array(df_per['Second'])+np.array(df_per['Third'])+np.array(df_per['Fourth']),\n",
    "        color='#3399ff', edgecolor='white', width=barWidth, label='Fifth category')\n",
    "plt.bar(df_per.index, df_per['others'], \n",
    "        bottom=np.array(df_per['Top'])+np.array(df_per['Second'])+np.array(df_per['Third'])+np.array(df_per['Fourth'])+np.array(df_per['Fifth']),\n",
    "        color='#c2d6d6', edgecolor='white', width=barWidth, label='Other categories')\n",
    "plt.xticks(df_per.index, fontweight='bold')\n",
    "plt.xlabel(\"Top Reviewers\", fontsize=16)\n",
    "plt.ylabel(\"Percentage of Categories reviewed\", fontsize=16)\n",
    "plt.legend(loc='upper right', fontsize=16) \n",
    "plt.savefig('Category_distribution.png')\n",
    "#plt.show()\n"
   ]
  },
  {
   "cell_type": "code",
   "execution_count": 134,
   "metadata": {},
   "outputs": [],
   "source": [
    "df_review_ct = df_final.user_id.value_counts().to_frame()"
   ]
  },
  {
   "cell_type": "code",
   "execution_count": 136,
   "metadata": {},
   "outputs": [
    {
     "data": {
      "text/html": [
       "<div>\n",
       "<style scoped>\n",
       "    .dataframe tbody tr th:only-of-type {\n",
       "        vertical-align: middle;\n",
       "    }\n",
       "\n",
       "    .dataframe tbody tr th {\n",
       "        vertical-align: top;\n",
       "    }\n",
       "\n",
       "    .dataframe thead th {\n",
       "        text-align: right;\n",
       "    }\n",
       "</style>\n",
       "<table border=\"1\" class=\"dataframe\">\n",
       "  <thead>\n",
       "    <tr style=\"text-align: right;\">\n",
       "      <th></th>\n",
       "      <th>user_id</th>\n",
       "    </tr>\n",
       "  </thead>\n",
       "  <tbody>\n",
       "    <tr>\n",
       "      <th>CxDOIDnH8gp9KXzpBHJYXw</th>\n",
       "      <td>884</td>\n",
       "    </tr>\n",
       "  </tbody>\n",
       "</table>\n",
       "</div>"
      ],
      "text/plain": [
       "                        user_id\n",
       "CxDOIDnH8gp9KXzpBHJYXw      884"
      ]
     },
     "execution_count": 136,
     "metadata": {},
     "output_type": "execute_result"
    }
   ],
   "source": [
    "df_review_ct.head(1)"
   ]
  },
  {
   "cell_type": "code",
   "execution_count": 137,
   "metadata": {},
   "outputs": [
    {
     "data": {
      "text/html": [
       "<div>\n",
       "<style scoped>\n",
       "    .dataframe tbody tr th:only-of-type {\n",
       "        vertical-align: middle;\n",
       "    }\n",
       "\n",
       "    .dataframe tbody tr th {\n",
       "        vertical-align: top;\n",
       "    }\n",
       "\n",
       "    .dataframe thead th {\n",
       "        text-align: right;\n",
       "    }\n",
       "</style>\n",
       "<table border=\"1\" class=\"dataframe\">\n",
       "  <thead>\n",
       "    <tr style=\"text-align: right;\">\n",
       "      <th></th>\n",
       "      <th>num_reviews</th>\n",
       "    </tr>\n",
       "  </thead>\n",
       "  <tbody>\n",
       "    <tr>\n",
       "      <th>CxDOIDnH8gp9KXzpBHJYXw</th>\n",
       "      <td>884</td>\n",
       "    </tr>\n",
       "  </tbody>\n",
       "</table>\n",
       "</div>"
      ],
      "text/plain": [
       "                        num_reviews\n",
       "CxDOIDnH8gp9KXzpBHJYXw          884"
      ]
     },
     "execution_count": 137,
     "metadata": {},
     "output_type": "execute_result"
    }
   ],
   "source": [
    "df_review_ct.rename(columns={'user_id':'num_reviews'}, inplace=True)\n",
    "df_review_ct.head(1)"
   ]
  },
  {
   "cell_type": "code",
   "execution_count": 141,
   "metadata": {},
   "outputs": [
    {
     "data": {
      "text/plain": [
       "(73041, 2)"
      ]
     },
     "execution_count": 141,
     "metadata": {},
     "output_type": "execute_result"
    }
   ],
   "source": [
    "df_review_ct.shape"
   ]
  },
  {
   "cell_type": "code",
   "execution_count": 142,
   "metadata": {},
   "outputs": [
    {
     "data": {
      "text/html": [
       "<div>\n",
       "<style scoped>\n",
       "    .dataframe tbody tr th:only-of-type {\n",
       "        vertical-align: middle;\n",
       "    }\n",
       "\n",
       "    .dataframe tbody tr th {\n",
       "        vertical-align: top;\n",
       "    }\n",
       "\n",
       "    .dataframe thead th {\n",
       "        text-align: right;\n",
       "    }\n",
       "</style>\n",
       "<table border=\"1\" class=\"dataframe\">\n",
       "  <thead>\n",
       "    <tr style=\"text-align: right;\">\n",
       "      <th></th>\n",
       "      <th>num_reviews</th>\n",
       "      <th>cum_review_ct</th>\n",
       "    </tr>\n",
       "  </thead>\n",
       "  <tbody>\n",
       "    <tr>\n",
       "      <th>-_bwDMfHlRZ_qtTCdFstRA</th>\n",
       "      <td>1</td>\n",
       "      <td>1</td>\n",
       "    </tr>\n",
       "    <tr>\n",
       "      <th>jhljCCdVzWfZvtTYxmMJYw</th>\n",
       "      <td>1</td>\n",
       "      <td>2</td>\n",
       "    </tr>\n",
       "    <tr>\n",
       "      <th>uJXJZ5hkw7MulZ4wRVp1Dg</th>\n",
       "      <td>1</td>\n",
       "      <td>3</td>\n",
       "    </tr>\n",
       "    <tr>\n",
       "      <th>F-e2u499vq0crIf4xDN5VA</th>\n",
       "      <td>1</td>\n",
       "      <td>4</td>\n",
       "    </tr>\n",
       "    <tr>\n",
       "      <th>OyV5WkaqoQH4fdQ7rTzALw</th>\n",
       "      <td>1</td>\n",
       "      <td>5</td>\n",
       "    </tr>\n",
       "  </tbody>\n",
       "</table>\n",
       "</div>"
      ],
      "text/plain": [
       "                        num_reviews  cum_review_ct\n",
       "-_bwDMfHlRZ_qtTCdFstRA            1              1\n",
       "jhljCCdVzWfZvtTYxmMJYw            1              2\n",
       "uJXJZ5hkw7MulZ4wRVp1Dg            1              3\n",
       "F-e2u499vq0crIf4xDN5VA            1              4\n",
       "OyV5WkaqoQH4fdQ7rTzALw            1              5"
      ]
     },
     "execution_count": 142,
     "metadata": {},
     "output_type": "execute_result"
    }
   ],
   "source": [
    "df_review_ct.sort_values(by='num_reviews', inplace=True)\n",
    "df_review_ct['cum_review_ct'] = df_review_ct['num_reviews'].cumsum()\n",
    "df_review_ct.head()"
   ]
  },
  {
   "cell_type": "code",
   "execution_count": 152,
   "metadata": {},
   "outputs": [
    {
     "data": {
      "text/html": [
       "<div>\n",
       "<style scoped>\n",
       "    .dataframe tbody tr th:only-of-type {\n",
       "        vertical-align: middle;\n",
       "    }\n",
       "\n",
       "    .dataframe tbody tr th {\n",
       "        vertical-align: top;\n",
       "    }\n",
       "\n",
       "    .dataframe thead th {\n",
       "        text-align: right;\n",
       "    }\n",
       "</style>\n",
       "<table border=\"1\" class=\"dataframe\">\n",
       "  <thead>\n",
       "    <tr style=\"text-align: right;\">\n",
       "      <th></th>\n",
       "      <th>index</th>\n",
       "      <th>num_reviews</th>\n",
       "      <th>cum_review_ct</th>\n",
       "      <th>cum_review_percent</th>\n",
       "    </tr>\n",
       "  </thead>\n",
       "  <tbody>\n",
       "    <tr>\n",
       "      <th>73039</th>\n",
       "      <td>Q9mA60HnY87C1TW5kjAZ6Q</td>\n",
       "      <td>445</td>\n",
       "      <td>302896</td>\n",
       "      <td>99.709</td>\n",
       "    </tr>\n",
       "    <tr>\n",
       "      <th>73040</th>\n",
       "      <td>CxDOIDnH8gp9KXzpBHJYXw</td>\n",
       "      <td>884</td>\n",
       "      <td>303780</td>\n",
       "      <td>100.000</td>\n",
       "    </tr>\n",
       "  </tbody>\n",
       "</table>\n",
       "</div>"
      ],
      "text/plain": [
       "                        index  num_reviews  cum_review_ct  cum_review_percent\n",
       "73039  Q9mA60HnY87C1TW5kjAZ6Q          445         302896              99.709\n",
       "73040  CxDOIDnH8gp9KXzpBHJYXw          884         303780             100.000"
      ]
     },
     "execution_count": 152,
     "metadata": {},
     "output_type": "execute_result"
    }
   ],
   "source": [
    "# total_reviews = df_review_ct['num_reviews'].sum()\n",
    "# df_review_ct['cum_review_percent'] = df_review_ct['cum_review_ct']/total_reviews * 100\n",
    "# df_review_ct.head(2)\n",
    "df_review_ct.tail(2)"
   ]
  },
  {
   "cell_type": "code",
   "execution_count": 144,
   "metadata": {},
   "outputs": [
    {
     "data": {
      "text/html": [
       "<div>\n",
       "<style scoped>\n",
       "    .dataframe tbody tr th:only-of-type {\n",
       "        vertical-align: middle;\n",
       "    }\n",
       "\n",
       "    .dataframe tbody tr th {\n",
       "        vertical-align: top;\n",
       "    }\n",
       "\n",
       "    .dataframe thead th {\n",
       "        text-align: right;\n",
       "    }\n",
       "</style>\n",
       "<table border=\"1\" class=\"dataframe\">\n",
       "  <thead>\n",
       "    <tr style=\"text-align: right;\">\n",
       "      <th></th>\n",
       "      <th>index</th>\n",
       "      <th>num_reviews</th>\n",
       "      <th>cum_review_ct</th>\n",
       "      <th>cum_review_percent</th>\n",
       "    </tr>\n",
       "  </thead>\n",
       "  <tbody>\n",
       "    <tr>\n",
       "      <th>0</th>\n",
       "      <td>-_bwDMfHlRZ_qtTCdFstRA</td>\n",
       "      <td>1</td>\n",
       "      <td>1</td>\n",
       "      <td>0.000329</td>\n",
       "    </tr>\n",
       "    <tr>\n",
       "      <th>1</th>\n",
       "      <td>jhljCCdVzWfZvtTYxmMJYw</td>\n",
       "      <td>1</td>\n",
       "      <td>2</td>\n",
       "      <td>0.000658</td>\n",
       "    </tr>\n",
       "  </tbody>\n",
       "</table>\n",
       "</div>"
      ],
      "text/plain": [
       "                    index  num_reviews  cum_review_ct  cum_review_percent\n",
       "0  -_bwDMfHlRZ_qtTCdFstRA            1              1            0.000329\n",
       "1  jhljCCdVzWfZvtTYxmMJYw            1              2            0.000658"
      ]
     },
     "execution_count": 144,
     "metadata": {},
     "output_type": "execute_result"
    }
   ],
   "source": [
    "df_review_ct.reset_index(inplace=True)\n",
    "df_review_ct.head(2)"
   ]
  },
  {
   "cell_type": "code",
   "execution_count": 173,
   "metadata": {},
   "outputs": [
    {
     "data": {
      "image/png": "[encoded data removed]",
      "text/plain": [
       "<Figure size 720x576 with 1 Axes>"
      ]
     },
     "metadata": {
      "needs_background": "light"
     },
     "output_type": "display_data"
    }
   ],
   "source": [
    "plt.figure(figsize=(10,8))\n",
    "plt.plot(df_review_ct.index, df_review_ct['cum_review_percent'])\n",
    "plt.xlabel('Number of users',fontsize=16)\n",
    "plt.ylabel('Cumulative percentage of reviews',fontsize=16)\n",
    "plt.title('Number of users vs cumulative percentage of reviews',fontsize=16)\n",
    "plt.axvline(x=54500, ymax=0.24, color='r')\n",
    "plt.axhline(y=25 , xmax = 0.71, color='r')\n",
    "plt.xlim(0,None)\n",
    "plt.ylim(0,None)\n",
    "# plt.show()\n",
    "plt.savefig('Cumulative_review_num_users')"
   ]
  },
  {
   "cell_type": "code",
   "execution_count": 148,
   "metadata": {},
   "outputs": [
    {
     "name": "stderr",
     "output_type": "stream",
     "text": [
      "C:\\ProgramData\\Anaconda3\\lib\\site-packages\\ipykernel_launcher.py:2: SettingWithCopyWarning: \n",
      "A value is trying to be set on a copy of a slice from a DataFrame\n",
      "\n",
      "See the caveats in the documentation: http://pandas.pydata.org/pandas-docs/stable/indexing.html#indexing-view-versus-copy\n",
      "  \n",
      "C:\\ProgramData\\Anaconda3\\lib\\site-packages\\ipykernel_launcher.py:3: SettingWithCopyWarning: \n",
      "A value is trying to be set on a copy of a slice from a DataFrame.\n",
      "Try using .loc[row_indexer,col_indexer] = value instead\n",
      "\n",
      "See the caveats in the documentation: http://pandas.pydata.org/pandas-docs/stable/indexing.html#indexing-view-versus-copy\n",
      "  This is separate from the ipykernel package so we can avoid doing imports until\n"
     ]
    },
    {
     "data": {
      "text/html": [
       "<div>\n",
       "<style scoped>\n",
       "    .dataframe tbody tr th:only-of-type {\n",
       "        vertical-align: middle;\n",
       "    }\n",
       "\n",
       "    .dataframe tbody tr th {\n",
       "        vertical-align: top;\n",
       "    }\n",
       "\n",
       "    .dataframe thead th {\n",
       "        text-align: right;\n",
       "    }\n",
       "</style>\n",
       "<table border=\"1\" class=\"dataframe\">\n",
       "  <thead>\n",
       "    <tr style=\"text-align: right;\">\n",
       "      <th></th>\n",
       "      <th>review_count</th>\n",
       "      <th>cum_review_ct</th>\n",
       "    </tr>\n",
       "  </thead>\n",
       "  <tbody>\n",
       "    <tr>\n",
       "      <th>80828</th>\n",
       "      <td>945</td>\n",
       "      <td>298836</td>\n",
       "    </tr>\n",
       "    <tr>\n",
       "      <th>131553</th>\n",
       "      <td>973</td>\n",
       "      <td>299809</td>\n",
       "    </tr>\n",
       "    <tr>\n",
       "      <th>9526</th>\n",
       "      <td>1184</td>\n",
       "      <td>300993</td>\n",
       "    </tr>\n",
       "    <tr>\n",
       "      <th>158973</th>\n",
       "      <td>1270</td>\n",
       "      <td>302263</td>\n",
       "    </tr>\n",
       "    <tr>\n",
       "      <th>107580</th>\n",
       "      <td>1494</td>\n",
       "      <td>303757</td>\n",
       "    </tr>\n",
       "  </tbody>\n",
       "</table>\n",
       "</div>"
      ],
      "text/plain": [
       "        review_count  cum_review_ct\n",
       "80828            945         298836\n",
       "131553           973         299809\n",
       "9526            1184         300993\n",
       "158973          1270         302263\n",
       "107580          1494         303757"
      ]
     },
     "execution_count": 148,
     "metadata": {},
     "output_type": "execute_result"
    }
   ],
   "source": [
    "df_toronto = df_bus[(df_bus['categories'].str.contains('Restaurants')) & (df_bus['city']== 'Toronto')]\n",
    "df_toronto.sort_values(by='review_count', inplace=True)\n",
    "df_toronto['cum_review_ct'] = df_toronto['review_count'].cumsum()\n",
    "df_toronto[['review_count', 'cum_review_ct']].tail()"
   ]
  },
  {
   "cell_type": "code",
   "execution_count": 149,
   "metadata": {},
   "outputs": [
    {
     "name": "stderr",
     "output_type": "stream",
     "text": [
      "C:\\ProgramData\\Anaconda3\\lib\\site-packages\\ipykernel_launcher.py:2: SettingWithCopyWarning: \n",
      "A value is trying to be set on a copy of a slice from a DataFrame.\n",
      "Try using .loc[row_indexer,col_indexer] = value instead\n",
      "\n",
      "See the caveats in the documentation: http://pandas.pydata.org/pandas-docs/stable/indexing.html#indexing-view-versus-copy\n",
      "  \n"
     ]
    },
    {
     "data": {
      "text/html": [
       "<div>\n",
       "<style scoped>\n",
       "    .dataframe tbody tr th:only-of-type {\n",
       "        vertical-align: middle;\n",
       "    }\n",
       "\n",
       "    .dataframe tbody tr th {\n",
       "        vertical-align: top;\n",
       "    }\n",
       "\n",
       "    .dataframe thead th {\n",
       "        text-align: right;\n",
       "    }\n",
       "</style>\n",
       "<table border=\"1\" class=\"dataframe\">\n",
       "  <thead>\n",
       "    <tr style=\"text-align: right;\">\n",
       "      <th></th>\n",
       "      <th>business_id</th>\n",
       "      <th>name</th>\n",
       "      <th>neighborhood</th>\n",
       "      <th>address</th>\n",
       "      <th>city</th>\n",
       "      <th>state</th>\n",
       "      <th>postal_code</th>\n",
       "      <th>latitude</th>\n",
       "      <th>longitude</th>\n",
       "      <th>stars</th>\n",
       "      <th>review_count</th>\n",
       "      <th>is_open</th>\n",
       "      <th>categories</th>\n",
       "      <th>cum_review_ct</th>\n",
       "      <th>cum_review_percent</th>\n",
       "    </tr>\n",
       "  </thead>\n",
       "  <tbody>\n",
       "    <tr>\n",
       "      <th>130487</th>\n",
       "      <td>wlj66szhtfszQUUa7P1_tg</td>\n",
       "      <td>\"Kincious noodle house\"</td>\n",
       "      <td>NaN</td>\n",
       "      <td>\"4750 Yonge st  Unit # 141\"</td>\n",
       "      <td>Toronto</td>\n",
       "      <td>ON</td>\n",
       "      <td>M2N 5M6</td>\n",
       "      <td>43.760067</td>\n",
       "      <td>-79.410974</td>\n",
       "      <td>3.5</td>\n",
       "      <td>3</td>\n",
       "      <td>1</td>\n",
       "      <td>Noodles;Restaurants</td>\n",
       "      <td>3</td>\n",
       "      <td>0.000988</td>\n",
       "    </tr>\n",
       "    <tr>\n",
       "      <th>88495</th>\n",
       "      <td>-tkBz5ZuUKiWcfxq59jD2g</td>\n",
       "      <td>\"J Pizza Plus\"</td>\n",
       "      <td>NaN</td>\n",
       "      <td>\"314 Parliament Street\"</td>\n",
       "      <td>Toronto</td>\n",
       "      <td>ON</td>\n",
       "      <td>M5A 2Z7</td>\n",
       "      <td>43.659440</td>\n",
       "      <td>-79.366010</td>\n",
       "      <td>1.5</td>\n",
       "      <td>3</td>\n",
       "      <td>1</td>\n",
       "      <td>Middle Eastern;Pizza;Restaurants</td>\n",
       "      <td>6</td>\n",
       "      <td>0.001975</td>\n",
       "    </tr>\n",
       "  </tbody>\n",
       "</table>\n",
       "</div>"
      ],
      "text/plain": [
       "                   business_id                     name neighborhood  \\\n",
       "130487  wlj66szhtfszQUUa7P1_tg  \"Kincious noodle house\"          NaN   \n",
       "88495   -tkBz5ZuUKiWcfxq59jD2g           \"J Pizza Plus\"          NaN   \n",
       "\n",
       "                            address     city state postal_code   latitude  \\\n",
       "130487  \"4750 Yonge st  Unit # 141\"  Toronto    ON     M2N 5M6  43.760067   \n",
       "88495       \"314 Parliament Street\"  Toronto    ON     M5A 2Z7  43.659440   \n",
       "\n",
       "        longitude  stars  review_count  is_open  \\\n",
       "130487 -79.410974    3.5             3        1   \n",
       "88495  -79.366010    1.5             3        1   \n",
       "\n",
       "                              categories  cum_review_ct  cum_review_percent  \n",
       "130487               Noodles;Restaurants              3            0.000988  \n",
       "88495   Middle Eastern;Pizza;Restaurants              6            0.001975  "
      ]
     },
     "execution_count": 149,
     "metadata": {},
     "output_type": "execute_result"
    }
   ],
   "source": [
    "total_reviews = df_toronto['review_count'].sum()\n",
    "df_toronto['cum_review_percent'] = df_toronto['cum_review_ct']/total_reviews * 100\n",
    "df_toronto.head(2)"
   ]
  },
  {
   "cell_type": "code",
   "execution_count": 150,
   "metadata": {},
   "outputs": [],
   "source": [
    "df_toronto.reset_index(inplace=True)"
   ]
  },
  {
   "cell_type": "code",
   "execution_count": 155,
   "metadata": {},
   "outputs": [
    {
     "data": {
      "image/png": "[encoded data removed]",
      "text/plain": [
       "<Figure size 432x288 with 1 Axes>"
      ]
     },
     "metadata": {
      "needs_background": "light"
     },
     "output_type": "display_data"
    }
   ],
   "source": [
    "s = df_toronto['cum_review_percent']\n",
    "plt.plot(s.index, s.values)\n",
    "plt.xlabel('Number of users')\n",
    "plt.ylabel('Cumulative percentage of reviews')\n",
    "plt.title('Number of users vs cumulative percentage of reviews')\n",
    "plt.axvline(x=5100, ymax=0.25, color='r')\n",
    "plt.axhline(y=24 , xmax = 0.70, color='r')\n",
    "\n",
    "plt.show()"
   ]
  },
  {
   "cell_type": "code",
   "execution_count": null,
   "metadata": {},
   "outputs": [],
   "source": []
  }
 ],
 "metadata": {
  "kernelspec": {
   "display_name": "Python 3",
   "language": "python",
   "name": "python3"
  },
  "language_info": {
   "codemirror_mode": {
    "name": "ipython",
    "version": 3
   },
   "file_extension": ".py",
   "mimetype": "text/x-python",
   "name": "python",
   "nbconvert_exporter": "python",
   "pygments_lexer": "ipython3",
   "version": "3.7.3"
  }
 },
 "nbformat": 4,
 "nbformat_minor": 2
}
