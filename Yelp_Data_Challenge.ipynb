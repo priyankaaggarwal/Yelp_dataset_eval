{
 "cells": [
  {
   "cell_type": "markdown",
   "metadata": {},
   "source": [
    "<p><font face=\"Georgia Header\", color='darkblue' size=14><b><center>ALGORITHM TO BOOST RESTAURANT’S YELP RATING BY PREDICTING USER BEHAVIOR AND PREFERENCES</center></b></font></p>\n",
    "<br><br>"
   ]
  },
  {
   "cell_type": "markdown",
   "metadata": {},
   "source": [
    "<p><center><br><br><img src='images/Dataset.png' width=\"700\" height=\"700\"/></center></p>"
   ]
  },
  {
   "cell_type": "markdown",
   "metadata": {},
   "source": [
    "<center><br><br>\n",
    "<h1><font color='#992600' face='Cambria'><b>75% of the reviews are given by less than 25% of the reviewers</b></font></h1></center>\n",
    "<center><img src='images/Cumulative_review_num_users.png' width='600' height='600'/></center>"
   ]
  },
  {
   "cell_type": "markdown",
   "metadata": {},
   "source": [
    "<br>\n",
    "<center><h1><font color='#992600' face='Cambria'><b>Each user is primarily interested in a few categories of Restaurants</b></font></h1></center>\n",
    "<center><img src='images/Category_distribution.png' width='800' height='800'/></center>"
   ]
  },
  {
   "cell_type": "markdown",
   "metadata": {},
   "source": [
    "<br><br>\n",
    "<center><h1><font color='#992600' face='Cambria'><b>Reviewers are biased and give either positive or negative review. More than 50% reviewers have a median rating of 4.0</b></font></h1></center>\n",
    "\n",
    "<center><img src='images/median_rating_pie.png' width='600' height='400'/></center>"
   ]
  },
  {
   "cell_type": "markdown",
   "metadata": {},
   "source": [
    "<br><br>\n",
    "<center><h1><font color='#992600' face='Cambria'><b>Analysis of review text shows that only a few keywords are enough to differentiate the customer.</b></font></h1></center>\n",
    "\n",
    "<center><img src='images/review_words.png' width='700' height='500'/></center>"
   ]
  },
  {
   "cell_type": "markdown",
   "metadata": {},
   "source": [
    "<p><center><img src='images/Idea.png' width=\"800\" height=\"800\"/></center></p>"
   ]
  }
 ],
 "metadata": {
  "kernelspec": {
   "display_name": "Python 3",
   "language": "python",
   "name": "python3"
  },
  "language_info": {
   "codemirror_mode": {
    "name": "ipython",
    "version": 3
   },
   "file_extension": ".py",
   "mimetype": "text/x-python",
   "name": "python",
   "nbconvert_exporter": "python",
   "pygments_lexer": "ipython3",
   "version": "3.7.3"
  }
 },
 "nbformat": 4,
 "nbformat_minor": 2
}
